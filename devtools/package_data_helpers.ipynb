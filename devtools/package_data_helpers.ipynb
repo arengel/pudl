{
 "cells": [
  {
   "cell_type": "code",
   "execution_count": null,
   "metadata": {
    "pycharm": {
     "name": "#%%\n"
    }
   },
   "outputs": [],
   "source": [
    "%load_ext autoreload\n",
    "%autoreload 2\n",
    "import pudl\n",
    "import logging\n",
    "import sys\n",
    "from pathlib import Path\n",
    "import pandas as pd\n",
    "import calendar\n",
    "import requests\n",
    "from tqdm import tqdm\n",
    "\n",
    "pd.options.display.max_columns = None"
   ]
  },
  {
   "cell_type": "code",
   "execution_count": null,
   "metadata": {
    "pycharm": {
     "name": "#%%\n"
    }
   },
   "outputs": [],
   "source": [
    "pudl_settings = pudl.workspace.setup.get_defaults()"
   ]
  },
  {
   "cell_type": "markdown",
   "metadata": {
    "collapsed": false,
    "pycharm": {
     "name": "#%% md\n"
    }
   },
   "source": [
    "if you don't have tqdm you can comment it out or install it `mamba install tqdm -c conda-forge`"
   ]
  },
  {
   "cell_type": "markdown",
   "metadata": {
    "collapsed": false,
    "pycharm": {
     "name": "#%% md\n"
    }
   },
   "source": [
    "# Extraction testing"
   ]
  },
  {
   "cell_type": "code",
   "execution_count": null,
   "metadata": {
    "pycharm": {
     "name": "#%%\n"
    }
   },
   "outputs": [],
   "source": [
    "logger = logging.getLogger()\n",
    "logger.setLevel(logging.INFO)\n",
    "handler = logging.StreamHandler(stream=sys.stdout)\n",
    "formatter = logging.Formatter('%(message)s')\n",
    "handler.setFormatter(formatter)\n",
    "logger.handlers = [handler]\n",
    "pudl_settings = pudl.workspace.setup.get_defaults()\n",
    "from pudl.settings import Eia860Settings, Eia923Settings, EiaSettings\n",
    "from pudl.metadata.classes import DataSource\n",
    "\n",
    "eia860_data_source = DataSource.from_id(\"eia860\")\n",
    "eia860_years = eia860_data_source.working_partitions[\"years\"]\n",
    "#eia860_years = [2020]\n",
    "eia860_settings = Eia860Settings(years=eia860_years)\n",
    "\n",
    "# Uncomment to use all available years:\n",
    "eia923_data_source = DataSource.from_id(\"eia923\")\n",
    "eia923_years = eia923_data_source.working_partitions[\"years\"]\n",
    "#eia923_years = [2020]\n",
    "eia923_settings = Eia923Settings(years=eia923_years)\n",
    "\n",
    "eia_settings = EiaSettings(eia860=eia860_settings, eia923=eia923_settings)\n",
    "ds_kwargs = {\"local_cache_path\": pudl_settings[\"data_dir\"]}\n",
    "ds = pudl.workspace.datastore.Datastore(**ds_kwargs)"
   ]
  },
  {
   "cell_type": "markdown",
   "metadata": {
    "collapsed": false,
    "pycharm": {
     "name": "#%% md\n"
    }
   },
   "source": [
    "## 860m"
   ]
  },
  {
   "cell_type": "code",
   "execution_count": null,
   "metadata": {
    "pycharm": {
     "name": "#%%\n"
    }
   },
   "outputs": [],
   "source": [
    "eia860m_extractor = pudl.extract.eia860m.Extractor(ds)\n",
    "eia860m_raw_dfs = eia860m_extractor.extract()"
   ]
  },
  {
   "cell_type": "markdown",
   "metadata": {
    "collapsed": false,
    "pycharm": {
     "name": "#%% md\n"
    }
   },
   "source": [
    "## 860"
   ]
  },
  {
   "cell_type": "code",
   "execution_count": null,
   "metadata": {
    "pycharm": {
     "name": "#%%\n"
    }
   },
   "outputs": [],
   "source": [
    "eia860_extractor = pudl.extract.eia860.Extractor(ds)\n",
    "eia860_raw_dfs = eia860_extractor.extract()"
   ]
  },
  {
   "cell_type": "markdown",
   "metadata": {
    "collapsed": false,
    "pycharm": {
     "name": "#%% md\n"
    }
   },
   "source": [
    "# Setting up 860m stuff\n",
    "## Semi-automated way of populating skipfooter, skiprows, and column_maps"
   ]
  },
  {
   "cell_type": "code",
   "execution_count": null,
   "metadata": {
    "pycharm": {
     "name": "#%%\n"
    }
   },
   "outputs": [],
   "source": [
    "l = list(\n",
    "    Path(pudl_settings[\"data_dir\"])\n",
    "    .joinpath(\"eia860m/10.5281-zenodo.6321197\")\n",
    "    .glob(\"*.xlsx\")\n",
    ")\n",
    "\n",
    "\n",
    "df_f = pd.DataFrame()\n",
    "df_r = pd.DataFrame()\n",
    "cols = {0: [], 1: [], 2: []}\n",
    "f = l[0]\n",
    "for f in tqdm(l):\n",
    "    xl = pd.ExcelFile(f)\n",
    "    name = f.stem.partition(\"-\")[-1]\n",
    "    for sht in range(3):\n",
    "        df = xl.parse(sheet_name=sht)\n",
    "        df_r.loc[sht, name] = df.index[df.iloc[:, 0] == \"Entity ID\"][0] + 1\n",
    "        df_f.loc[sht, name] = df.iloc[500:, 0].isna().sum() + 1\n",
    "        df.columns = list(df.loc[df.index[df.iloc[:, 0] == \"Entity ID\"][0], :])\n",
    "        df = pudl.helpers.simplify_columns(df)\n",
    "        cols[sht].append(df.columns.to_series(name=name))\n",
    "\n",
    "\n",
    "pd.concat(cols[2], axis=1).sort_index(axis=1).to_clipboard()\n",
    "q = pd.DataFrame(sorted(x.name for x in l))\n",
    "q.index = [x.partition(\"-\")[2].replace(\".xlsx\", \"\") for x in q[0]]"
   ]
  },
  {
   "cell_type": "markdown",
   "metadata": {
    "collapsed": false,
    "pycharm": {
     "name": "#%% md\n"
    }
   },
   "source": [
    "## for working_partitions in `metadata.sources`"
   ]
  },
  {
   "cell_type": "code",
   "execution_count": null,
   "metadata": {
    "pycharm": {
     "name": "#%%\n"
    }
   },
   "outputs": [],
   "source": [
    "print([f\"20{y}-{m:02}\" for y in range(15, 23) for m in range(1, 13)][6:][:-6])"
   ]
  },
  {
   "cell_type": "markdown",
   "metadata": {
    "collapsed": false,
    "pycharm": {
     "name": "#%% md\n"
    }
   },
   "source": [
    "## Grab missing months"
   ]
  },
  {
   "cell_type": "code",
   "execution_count": null,
   "metadata": {
    "pycharm": {
     "name": "#%%\n"
    }
   },
   "outputs": [],
   "source": [
    "df = pd.read_clipboard()"
   ]
  },
  {
   "cell_type": "markdown",
   "metadata": {
    "collapsed": false,
    "pycharm": {
     "name": "#%% md\n"
    }
   },
   "source": [
    "# Helpers for column maps"
   ]
  },
  {
   "cell_type": "code",
   "execution_count": null,
   "metadata": {
    "pycharm": {
     "name": "#%%\n"
    }
   },
   "outputs": [],
   "source": [
    "df = pd.read_excel(\"/Users/aengel/Downloads/EIA/eia8602020/6_2_EnviroEquip_Y2020.xlsx\", header=1, sheet_name=0)\n",
    "# df = pd.read_excel(\"/Users/aengel/Downloads/EIA/eia8602019/6_2_EnviroEquip_Y2019.xlsx\", header=1, sheet_name=1)\n",
    "# df = pd.read_excel(\"/Users/aengel/Downloads/EIA/eia8602018/6_2_EnviroEquip_Y2018.xlsx\", header=1, sheet_name=1)\n",
    "# df = pd.read_excel(\"/Users/aengel/Downloads/EIA/eia8602017/6_2_EnviroEquip_Y2017.xlsx\", header=1, sheet_name=1)\n",
    "# df = pd.read_excel(\"/Users/aengel/Downloads/EIA/eia8602016/6_2_EnviroEquip_Y2016.xlsx\", header=1, sheet_name=1)\n",
    "# df = pd.read_excel(\"/Users/aengel/Downloads/EIA/eia8602015/6_2_EnviroEquip_Y2015.xlsx\", header=1, sheet_name=1)\n",
    "# df = pd.read_excel(\"/Users/aengel/Downloads/EIA/eia8602014/6_2_EnviroEquip_Y2014.xlsx\", header=1, sheet_name=1)\n",
    "# df = pd.read_excel(\"/Users/aengel/Downloads/EIA/eia8602013/6_2_EnviroEquip_Y2013.xlsx\", header=1, sheet_name=1)\n",
    "# df = pd.read_excel(\"/Users/aengel/Downloads/EIA/eia8602012/EnviroEquipY2012.xlsx\", header=1)\n",
    "# df = pd.read_excel(\"/Users/aengel/Downloads/EIA/eia8602011/EnviroEquip.xlsx\", header=1)\n",
    "# df = pd.read_excel(\"/Users/aengel/Downloads/EIA/eia8602010/EnviroEquipY2010.xls\", header=0)\n",
    "# df = pd.read_excel(\"/Users/aengel/Downloads/EIA/eia8602009/EnviroEquipY09.xls\", header=0)\n",
    "pudl.helpers.simplify_columns(df).head().T.to_clipboard()"
   ]
  },
  {
   "cell_type": "code",
   "execution_count": null,
   "metadata": {
    "pycharm": {
     "name": "#%%\n"
    }
   },
   "outputs": [],
   "source": [
    "df.head()"
   ]
  }
 ],
 "metadata": {
  "kernelspec": {
   "display_name": "Python 3",
   "language": "python",
   "name": "python3"
  },
  "language_info": {
   "codemirror_mode": {
    "name": "ipython",
    "version": 2
   },
   "file_extension": ".py",
   "mimetype": "text/x-python",
   "name": "python",
   "nbconvert_exporter": "python",
   "pygments_lexer": "ipython2",
   "version": "2.7.6"
  }
 },
 "nbformat": 4,
 "nbformat_minor": 0
}
